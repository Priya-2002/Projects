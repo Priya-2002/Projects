{
 "cells": [
  {
   "cell_type": "code",
   "execution_count": 1,
   "id": "d06e9914",
   "metadata": {},
   "outputs": [],
   "source": [
    "import tensorflow as tf\n",
    "import numpy as np"
   ]
  },
  {
   "cell_type": "code",
   "execution_count": 2,
   "id": "7f77abc6",
   "metadata": {},
   "outputs": [],
   "source": [
    "import pandas as pd"
   ]
  },
  {
   "cell_type": "code",
   "execution_count": 3,
   "id": "38331724",
   "metadata": {},
   "outputs": [],
   "source": [
    "dataset = pd.read_csv('./A_Z Handwritten Data.csv').astype('int')"
   ]
  },
  {
   "cell_type": "code",
   "execution_count": 4,
   "id": "2c33f3f8",
   "metadata": {},
   "outputs": [],
   "source": [
    "dataset = dataset.sample(frac=1)"
   ]
  },
  {
   "cell_type": "code",
   "execution_count": 5,
   "id": "6c6cf4cb",
   "metadata": {},
   "outputs": [],
   "source": [
    "train, test = np.split(dataset, [int(0.7 * len(dataset))], axis=0)"
   ]
  },
  {
   "cell_type": "code",
   "execution_count": 6,
   "id": "ca92034f",
   "metadata": {},
   "outputs": [],
   "source": [
    "def split(df):\n",
    "    df.rename(columns={'0':'label'}, inplace=True)\n",
    "\n",
    "    # Splite data the X - Our data , and y - the prdict label\n",
    "    X = df.drop('label',axis = 1)\n",
    "    y = df['label']\n",
    "    return X, y"
   ]
  },
  {
   "cell_type": "code",
   "execution_count": 7,
   "id": "bd278c38",
   "metadata": {},
   "outputs": [],
   "source": [
    "x_train1, y_train1 = split(train)"
   ]
  },
  {
   "cell_type": "code",
   "execution_count": 8,
   "id": "bfffff03",
   "metadata": {},
   "outputs": [],
   "source": [
    "x_test1, y_test1 = split(test)"
   ]
  },
  {
   "cell_type": "code",
   "execution_count": 9,
   "id": "1d8e4869",
   "metadata": {},
   "outputs": [],
   "source": [
    "x_train, y_train = x_train1.to_numpy(), y_train1.to_numpy()\n",
    "x_test, y_test = x_test1.to_numpy(), y_test1.to_numpy()"
   ]
  },
  {
   "cell_type": "code",
   "execution_count": 10,
   "id": "333afde9",
   "metadata": {},
   "outputs": [],
   "source": [
    "model = tf.keras.Sequential([\n",
    "    tf.keras.layers.Dense(28 * 28),\n",
    "    tf.keras.layers.Dense(128, activation='relu'),\n",
    "    tf.keras.layers.Dropout(.1),\n",
    "    tf.keras.layers.Dense(128, activation='relu'),\n",
    "    tf.keras.layers.Dropout(.1),\n",
    "    tf.keras.layers.Dense(128, activation='relu'),\n",
    "    tf.keras.layers.Dense(26)\n",
    "])"
   ]
  },
  {
   "cell_type": "code",
   "execution_count": 11,
   "id": "a66816f7",
   "metadata": {},
   "outputs": [],
   "source": [
    "model.compile(optimizer='adam',\n",
    "              loss=tf.keras.losses.SparseCategoricalCrossentropy(from_logits=True),\n",
    "              metrics=['accuracy'])"
   ]
  },
  {
   "cell_type": "code",
   "execution_count": 12,
   "id": "06045113",
   "metadata": {},
   "outputs": [
    {
     "name": "stdout",
     "output_type": "stream",
     "text": [
      "Epoch 1/10\n",
      "8148/8148 [==============================] - 85s 10ms/step - loss: 2.1639 - accuracy: 0.4414\n",
      "Epoch 2/10\n",
      "8148/8148 [==============================] - 81s 10ms/step - loss: 0.9851 - accuracy: 0.7235\n",
      "Epoch 3/10\n",
      "8148/8148 [==============================] - 83s 10ms/step - loss: 0.7921 - accuracy: 0.7871\n",
      "Epoch 4/10\n",
      "8148/8148 [==============================] - 87s 11ms/step - loss: 0.7150 - accuracy: 0.8152\n",
      "Epoch 5/10\n",
      "8148/8148 [==============================] - 94s 12ms/step - loss: 0.6993 - accuracy: 0.8219\n",
      "Epoch 6/10\n",
      "8148/8148 [==============================] - 90s 11ms/step - loss: 0.6956 - accuracy: 0.8252\n",
      "Epoch 7/10\n",
      "8148/8148 [==============================] - 78s 10ms/step - loss: 0.7402 - accuracy: 0.8076\n",
      "Epoch 8/10\n",
      "8148/8148 [==============================] - 78s 10ms/step - loss: 0.7111 - accuracy: 0.8213\n",
      "Epoch 9/10\n",
      "8148/8148 [==============================] - 78s 10ms/step - loss: 0.6839 - accuracy: 0.8237\n",
      "Epoch 10/10\n",
      "8148/8148 [==============================] - 85s 10ms/step - loss: 0.6518 - accuracy: 0.8356\n"
     ]
    },
    {
     "data": {
      "text/plain": [
       "<keras.callbacks.History at 0x2593a7b2b70>"
      ]
     },
     "execution_count": 12,
     "metadata": {},
     "output_type": "execute_result"
    }
   ],
   "source": [
    "model.fit(x_train, y_train, epochs=10)"
   ]
  },
  {
   "cell_type": "code",
   "execution_count": 13,
   "id": "c68597dc",
   "metadata": {},
   "outputs": [
    {
     "name": "stdout",
     "output_type": "stream",
     "text": [
      "3492/3492 - 22s - loss: 0.5012 - accuracy: 0.8776 - 22s/epoch - 6ms/step\n"
     ]
    },
    {
     "data": {
      "text/plain": [
       "[0.5012239217758179, 0.8775774836540222]"
      ]
     },
     "execution_count": 13,
     "metadata": {},
     "output_type": "execute_result"
    }
   ],
   "source": [
    "model.evaluate(x_test,  y_test, verbose=2)"
   ]
  },
  {
   "cell_type": "code",
   "execution_count": null,
   "id": "751980cb",
   "metadata": {},
   "outputs": [],
   "source": []
  }
 ],
 "metadata": {
  "kernelspec": {
   "display_name": "Python 3 (ipykernel)",
   "language": "python",
   "name": "python3"
  },
  "language_info": {
   "codemirror_mode": {
    "name": "ipython",
    "version": 3
   },
   "file_extension": ".py",
   "mimetype": "text/x-python",
   "name": "python",
   "nbconvert_exporter": "python",
   "pygments_lexer": "ipython3",
   "version": "3.7.2"
  }
 },
 "nbformat": 4,
 "nbformat_minor": 5
}
